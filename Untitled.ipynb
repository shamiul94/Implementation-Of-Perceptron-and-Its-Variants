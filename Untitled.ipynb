{
 "cells": [
  {
   "cell_type": "markdown",
   "metadata": {},
   "source": [
    "# 1505038"
   ]
  },
  {
   "cell_type": "code",
   "execution_count": null,
   "metadata": {},
   "outputs": [],
   "source": [
    "%pip install pandas"
   ]
  },
  {
   "cell_type": "code",
   "execution_count": 4,
   "metadata": {},
   "outputs": [],
   "source": [
    "import numpy as np\n",
    "import sys\n",
    "import pandas as pd"
   ]
  },
  {
   "cell_type": "markdown",
   "metadata": {},
   "source": [
    "### Global Variables"
   ]
  },
  {
   "cell_type": "code",
   "execution_count": 5,
   "metadata": {},
   "outputs": [],
   "source": [
    "featureNo = 0 \n",
    "classNo = 0 \n",
    "sampleNo  = 0 \n",
    "dataset = []\n",
    "classLabels = []  \n",
    "\n",
    "\n",
    "\n",
    "seed_val = 101\n",
    "np.random.seed(seed_val)"
   ]
  },
  {
   "cell_type": "markdown",
   "metadata": {},
   "source": [
    "### Read Train Dataset"
   ]
  },
  {
   "cell_type": "code",
   "execution_count": 6,
   "metadata": {},
   "outputs": [
    {
     "name": "stdout",
     "output_type": "stream",
     "text": [
      "4 2 400\n",
      "4\n",
      "4\n"
     ]
    }
   ],
   "source": [
    "def readTrainDataset(file_name): \n",
    "    global featureNo, classNo, sampleNo \n",
    "    global dataset, classLabels  \n",
    "\n",
    "    with open(file_name, 'r', encoding='utf-8') as f: \n",
    "        lines = f.readlines()\n",
    "\n",
    "    # first line contains 3 integers d m n. d = no. of features, m = no. of classes, n=no. of samples\n",
    "    firstLine = [int(String) for String in lines[0].strip().split()]\n",
    "    featureNo, classNo, sampleNo = firstLine[0], firstLine[1], firstLine[2]\n",
    "    \n",
    "    print(featureNo, classNo, sampleNo)\n",
    "\n",
    "    for line in lines[1:]: \n",
    "        featureValuesForCurrentSample = list(map(float, line.strip().split()[:featureNo]))\n",
    "        classOfCurrentSample = int(line.strip().split()[featureNo])\n",
    "        # print(featureValuesForCurrentSample)\n",
    "        dataset.append(np.array(featureValuesForCurrentSample, dtype=float))\n",
    "        classLabels.append(classOfCurrentSample)\n",
    "    print(featureNo)\n",
    "    # print(classLabels)\n",
    "    \n",
    "\n",
    "readTrainDataset('dataset/trainLinearlySeparable.txt')\n",
    "print(featureNo)\n"
   ]
  },
  {
   "cell_type": "markdown",
   "metadata": {},
   "source": [
    "### Read Test Dataset"
   ]
  },
  {
   "cell_type": "code",
   "execution_count": 7,
   "metadata": {},
   "outputs": [],
   "source": [
    "def readTestDataset(file_name): \n",
    "    global featureNo, classNo, sampleNo \n",
    "\n",
    "    testDataSet = []\n",
    "    testClassLabels = []\n",
    "    \n",
    "    with open(file_name, 'r', encoding='utf-8') as f: \n",
    "        lines = f.readlines()\n",
    "\n",
    "    # first line contains 3 integers d m n. d = no. of features, m = no. of classes, n=no. of samples\n",
    "\n",
    "    for line in lines: \n",
    "        featureValuesForCurrentSample = list(map(float, line.strip().split()[:featureNo]))\n",
    "        classOfCurrentSample = int(line.strip().split()[featureNo])\n",
    "        # print(featureValuesForCurrentSample)\n",
    "\n",
    "        testDataSet.append(np.array(featureValuesForCurrentSample, dtype=float))\n",
    "        testClassLabels.append(classOfCurrentSample)\n",
    "\n",
    "    return testDataSet, testClassLabels\n",
    "\n"
   ]
  },
  {
   "cell_type": "markdown",
   "metadata": {},
   "source": [
    "## Basic Perceptron"
   ]
  },
  {
   "cell_type": "code",
   "execution_count": 8,
   "metadata": {},
   "outputs": [],
   "source": [
    "class basicPerceptron: \n",
    "    def __init__(self): \n",
    "        self.w = np.random.uniform(-1, 1, featureNo + 1)\n",
    "        self.learning_rate = 0.1\n",
    "\n",
    "    def train(self): \n",
    "        global featureNo, classNo, sampleNo \n",
    "        global dataset, classLabels\n",
    "        \n",
    "        t = 0 \n",
    "        T = 1000\n",
    "        while t < T: \n",
    "            Y = [] # misclassified\n",
    "            # print(featureNo, classNo, sampleNo)\n",
    "            # print(dataset, classLabels)\n",
    "            for i in range(sampleNo): \n",
    "                # print(len(dataset))\n",
    "                x = np.array(dataset[i])\n",
    "                # x = np.append(dataset[i], 1)            \n",
    "                x = np.append(x, 1)            \n",
    "                dotProduct = np.dot(self.w, x)\n",
    "                if dotProduct < 0 and classLabels[i] == 1: \n",
    "                    delta = -1.0 \n",
    "                    Y.append(x*delta)\n",
    "                elif dotProduct >= 0 and classLabels[i] == 2: \n",
    "                    delta = 1.0  \n",
    "                    Y.append(x*delta)\n",
    "            \n",
    "            if len(Y) == 0: \n",
    "                # training done! 100% accuracy. \n",
    "                print(f'Training successfully finished at {i}th iteration.')\n",
    "                print(\"w: \" + str(self.w) + \"\\n\")\n",
    "                break\n",
    "           \n",
    "            self.w = self.w - self.learning_rate * sum(Y)\n",
    "            t = t + 1\n",
    "        print(f'Exiting training after {T} steps.')\n",
    "\n",
    "\n",
    "    def test(self,fileName): \n",
    "        log = {\n",
    "                'sample_no' : [], \n",
    "                'feature_values' : [],\n",
    "                'actual_class' : [],\n",
    "                'predicted_class' : []\n",
    "               }\n",
    "\n",
    "        testDataSet, testClassLables = readTestDataset(fileName)\n",
    "        # print(testDataSet)\n",
    "        # print('##########')\n",
    "        # print(testClassLabels)\n",
    "\n",
    "        correctlyClassified = 0 \n",
    "\n",
    "        for i in range(len(testDataSet)):\n",
    "            data =  np.append(testDataSet[i], 1)\n",
    "            # print(self.w)\n",
    "            # print(data)\n",
    "            dotProduct = np.dot(self.w, data) \n",
    "            if dotProduct > 0: \n",
    "                predictedClass = 1 \n",
    "            else: \n",
    "                predictedClass = 2\n",
    "\n",
    "            if predictedClass == testClassLables[i]: \n",
    "                correctlyClassified += 1\n",
    "            else : \n",
    "                log['sample_no'].append(str(i))\n",
    "                log['feature_values'].append(testDataSet[i])\n",
    "                log['actual_class'].append(testClassLables[i])\n",
    "                log['predicted_class'].append(predictedClass)\n",
    "        \n",
    "        log_frame = pd.DataFrame.from_dict(log) \n",
    "        accuracy = correctlyClassified/ len(testDataSet) * 100\n",
    "        print(log_frame)\n",
    "        print(f'- Accuracy {accuracy}%')\n",
    "\n",
    "\n"
   ]
  },
  {
   "cell_type": "code",
   "execution_count": 9,
   "metadata": {},
   "outputs": [
    {
     "name": "stdout",
     "output_type": "stream",
     "text": [
      "4 2 400\n",
      "4\n",
      "Training successfully finished at 399th iteration.\n",
      "w: [ 49.48336132   2.83977319  -0.84538888 -53.08101147 471.57055396]\n",
      "\n",
      "Exiting training after 1000 steps.\n",
      "Empty DataFrame\n",
      "Columns: [sample_no, feature_values, actual_class, predicted_class]\n",
      "Index: []\n",
      "- Accuracy 100.0%\n"
     ]
    }
   ],
   "source": [
    "test_file_1 = \"./dataset/testLinearlySeparable.txt\"\n",
    "train_file_1 = \"./dataset/trainLinearlySeparable.txt\"\n",
    "\n",
    "readTrainDataset(train_file_1)\n",
    "p = basicPerceptron()\n",
    "p.train()\n",
    "p.test(test_file_1)\n"
   ]
  },
  {
   "cell_type": "markdown",
   "metadata": {},
   "source": [
    "## Reward and Punishment"
   ]
  },
  {
   "cell_type": "code",
   "execution_count": 10,
   "metadata": {},
   "outputs": [],
   "source": [
    "class RewardAndPunishment: \n",
    "    def __init__(self): \n",
    "        self.w = np.random.uniform(-1, 1, featureNo + 1)\n",
    "        self.learning_rate = 0.1\n",
    "\n",
    "    def train(self): \n",
    "        global featureNo, classNo, sampleNo \n",
    "        global dataset, classLabels  \n",
    "        \n",
    "        t = 0 \n",
    "        T = 1000\n",
    "        while t < T: \n",
    "            Y = [] # misclassified\n",
    "            flag = True\n",
    "            for i in range(sampleNo): \n",
    "                # print(len(dataset))\n",
    "                x = np.append(dataset[i], 1)   \n",
    "\n",
    "                dotProduct = np.dot(self.w, x)\n",
    "                if dotProduct < 0 and classLabels[i] == 1: \n",
    "                    self.w = self.w + self.learning_rate * x \n",
    "                    falg = False\n",
    "                elif dotProduct >= 0 and classLabels[i] == 2: \n",
    "                    self.w = self.w - self.learning_rate * x\n",
    "                    flag = False\n",
    "            \n",
    "            if flag: \n",
    "                print(f'Training stopping at {t} steps')\n",
    "                print(\"weight vector\", self.w)\n",
    "                break\n",
    "\n",
    "            t = t + 1\n",
    "        print(f'Exiting training after {T} steps.')\n",
    "\n",
    "\n",
    "    def test(self,fileName): \n",
    "        log = {\n",
    "                'sample_no' : [], \n",
    "                'feature_values' : [],\n",
    "                'actual_class' : [],\n",
    "                'predicted_class' : []\n",
    "               }\n",
    "\n",
    "        testDataSet, testClassLables = readTestDataset(fileName)\n",
    "\n",
    "        correctlyClassified = 0 \n",
    "\n",
    "        for i in range(len(testDataSet)):\n",
    "            data =  np.append(testDataSet[i], 1)\n",
    "            # print(self.w)\n",
    "            # print(data)\n",
    "            dotProduct = np.dot(self.w, data) \n",
    "            if dotProduct > 0: \n",
    "                predictedClass = 1 \n",
    "            else: \n",
    "                predictedClass = 2\n",
    "\n",
    "            if predictedClass == testClassLables[i]: \n",
    "                correctlyClassified += 1\n",
    "            else : \n",
    "                log['sample_no'].append(str(i))\n",
    "                log['feature_values'].append(testDataSet[i])\n",
    "                log['actual_class'].append(testClassLables[i])\n",
    "                log['predicted_class'].append(predictedClass)\n",
    "        \n",
    "        log_frame = pd.DataFrame.from_dict(log) \n",
    "        accuracy = correctlyClassified/ len(testDataSet) * 100\n",
    "        print(log_frame)\n",
    "        print(f'- Accuracy {accuracy}%')\n",
    "\n",
    "\n"
   ]
  },
  {
   "cell_type": "code",
   "execution_count": 12,
   "metadata": {},
   "outputs": [
    {
     "name": "stdout",
     "output_type": "stream",
     "text": [
      "4 2 400\n",
      "4\n",
      "Training stopping at 2 steps\n",
      "weight vector [ 0.86693522  0.53063145 -0.50670092 -0.77541172  8.23096644]\n",
      "Exiting training after 1000 steps.\n",
      "Empty DataFrame\n",
      "Columns: [sample_no, feature_values, actual_class, predicted_class]\n",
      "Index: []\n",
      "- Accuracy 100.0%\n"
     ]
    }
   ],
   "source": [
    "test_file_1 = \"./dataset/testLinearlySeparable.txt\"\n",
    "train_file_1 = \"./dataset/trainLinearlySeparable.txt\"\n",
    "\n",
    "readTrainDataset(train_file_1)\n",
    "p = RewardAndPunishment()\n",
    "p.train()\n",
    "p.test(test_file_1)\n"
   ]
  },
  {
   "cell_type": "markdown",
   "metadata": {},
   "source": [
    "## Pocket Perceptron"
   ]
  },
  {
   "cell_type": "code",
   "execution_count": 13,
   "metadata": {},
   "outputs": [],
   "source": [
    "class pocketPerceptron: \n",
    "    def __init__(self): \n",
    "        self.w = np.random.uniform(-1, 1, featureNo + 1)\n",
    "        self.ws = self.w\n",
    "        self.learning_rate = 0.1\n",
    "        self.hs = 0 \n",
    "\n",
    "    def train(self): \n",
    "        global featureNo, classNo, sampleNo \n",
    "        global dataset, classLabels\n",
    "        \n",
    "        t = 0 \n",
    "        T = 1000\n",
    "        while t < T: \n",
    "            Y = [] # misclassified\n",
    "            for i in range(sampleNo): \n",
    "                x = np.append(dataset[i], 1)            \n",
    "                dotProduct = np.dot(self.w, x)\n",
    "                if dotProduct < 0 and classLabels[i] == 1: \n",
    "                    delta = -1.0 \n",
    "                    Y.append(x*delta)\n",
    "                elif dotProduct >= 0 and classLabels[i] == 2: \n",
    "                    delta = 1.0  \n",
    "                    Y.append(x*delta)\n",
    "            # print(len(dataset))\n",
    "            if self.hs < len(dataset) - len(Y): # better found \n",
    "                self.hs = len(dataset) - len(Y)\n",
    "                self.ws = self.w\n",
    "\n",
    "            if len(Y) == 0: \n",
    "                # training done! 100% accuracy. \n",
    "                print(f'Training successfull finished at {i}th iteration.')\n",
    "                print(\"ws: \" + str(self.ws) + \"\\n\")\n",
    "                break\n",
    "            else: \n",
    "                self.w = self.w - self.learning_rate * sum(Y)\n",
    "            t = t + 1\n",
    "        print(f'Exiting training after {T} steps.')\n",
    "\n",
    "\n",
    "    def test(self,fileName): \n",
    "        log = {\n",
    "                'sample_no' : [], \n",
    "                'feature_values' : [],\n",
    "                'actual_class' : [],\n",
    "                'predicted_class' : []\n",
    "               }\n",
    "\n",
    "        testDataSet, testClassLables = readTestDataset(fileName)\n",
    "\n",
    "        correctlyClassified = 0 \n",
    "\n",
    "        for i in range(len(testDataSet)):\n",
    "            data =  np.append(testDataSet[i], 1)\n",
    "            # print(self.w)\n",
    "            # print(data)\n",
    "            dotProduct = np.dot(self.ws, data) \n",
    "            if dotProduct > 0: \n",
    "                predictedClass = 1 \n",
    "            else: \n",
    "                predictedClass = 2\n",
    "\n",
    "            if predictedClass == testClassLables[i]: \n",
    "                correctlyClassified += 1\n",
    "            else : \n",
    "                log['sample_no'].append(str(i))\n",
    "                log['feature_values'].append(testDataSet[i])\n",
    "                log['actual_class'].append(testClassLables[i])\n",
    "                log['predicted_class'].append(predictedClass)\n",
    "        \n",
    "        log_frame = pd.DataFrame.from_dict(log) \n",
    "        accuracy = correctlyClassified/ len(testDataSet) * 100\n",
    "#         print(log_frame)\n",
    "        print(f'- Accuracy {accuracy}%')\n",
    "\n",
    "\n"
   ]
  },
  {
   "cell_type": "code",
   "execution_count": 14,
   "metadata": {},
   "outputs": [
    {
     "name": "stdout",
     "output_type": "stream",
     "text": [
      "4 2 400\n",
      "4\n",
      "Training successfull finished at 399th iteration.\n",
      "ws: [ 5.00513663e+01  7.23074519e+00  7.59763868e-02 -5.07443259e+01\n",
      "  4.36352478e+02]\n",
      "\n",
      "Exiting training after 1000 steps.\n",
      "- Accuracy 97.75%\n"
     ]
    }
   ],
   "source": [
    "test_file_1 = \"./dataset/testLinearlySeparable.txt\"\n",
    "train_file_1 = \"./dataset/trainLinearlySeparable.txt\"\n",
    "\n",
    "test_file_2 = \"./dataset/testLinearlyNonSeparable.txt\"\n",
    "train_file_2 = \"./dataset/trainLinearlyNonSeparable.txt\"\n",
    "\n",
    "readTrainDataset(train_file_2)\n",
    "p = pocketPerceptron()\n",
    "p.train()\n",
    "p.test(test_file_2)"
   ]
  },
  {
   "cell_type": "code",
   "execution_count": null,
   "metadata": {},
   "outputs": [],
   "source": []
  }
 ],
 "metadata": {
  "kernelspec": {
   "display_name": "Python 3",
   "language": "python",
   "name": "python3"
  },
  "language_info": {
   "codemirror_mode": {
    "name": "ipython",
    "version": 3
   },
   "file_extension": ".py",
   "mimetype": "text/x-python",
   "name": "python",
   "nbconvert_exporter": "python",
   "pygments_lexer": "ipython3",
   "version": "3.7.6"
  }
 },
 "nbformat": 4,
 "nbformat_minor": 4
}
