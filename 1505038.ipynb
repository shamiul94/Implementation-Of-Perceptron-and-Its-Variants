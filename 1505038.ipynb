{
 "cells": [
  {
   "cell_type": "markdown",
   "metadata": {},
   "source": [
    "# 1505038"
   ]
  },
  {
   "cell_type": "code",
   "execution_count": 108,
   "metadata": {},
   "outputs": [
    {
     "output_type": "stream",
     "name": "stdout",
     "text": "Collecting pandas\n  Using cached pandas-1.1.2-cp38-cp38-manylinux1_x86_64.whl (10.4 MB)\nRequirement already satisfied: numpy>=1.15.4 in /usr/lib/python3/dist-packages (from pandas) (1.17.4)\nRequirement already satisfied: python-dateutil>=2.7.3 in /usr/lib/python3/dist-packages (from pandas) (2.7.3)\nRequirement already satisfied: pytz>=2017.2 in /usr/lib/python3/dist-packages (from pandas) (2019.3)\nInstalling collected packages: pandas\nSuccessfully installed pandas-1.1.2\nNote: you may need to restart the kernel to use updated packages.\n"
    }
   ],
   "source": [
    "%pip install pandas"
   ]
  },
  {
   "cell_type": "code",
   "execution_count": 211,
   "metadata": {},
   "outputs": [],
   "source": [
    "import numpy as np\n",
    "import sys\n",
    "import pandas as pd"
   ]
  },
  {
   "cell_type": "markdown",
   "metadata": {},
   "source": [
    "### Global Variables"
   ]
  },
  {
   "cell_type": "code",
   "execution_count": 243,
   "metadata": {},
   "outputs": [],
   "source": [
    "featureNo = 0 \n",
    "classNo = 0 \n",
    "sampleNo  = 0 \n",
    "dataset = []\n",
    "classLabels = []  \n",
    "\n",
    "\n",
    "\n",
    "seed_val = 101\n",
    "np.random.seed(seed_val)"
   ]
  },
  {
   "cell_type": "markdown",
   "metadata": {},
   "source": [
    "### Read Train Dataset"
   ]
  },
  {
   "cell_type": "code",
   "execution_count": 244,
   "metadata": {},
   "outputs": [],
   "source": [
    "def readTrainDataset(file_name): \n",
    "    global featureNo, classNo, sampleNo \n",
    "    global dataset, classLabels  \n",
    "\n",
    "    with open(file_name, 'r', encoding='utf-8') as f: \n",
    "        lines = f.readlines()\n",
    "\n",
    "    # first line contains 3 integers d m n. d = no. of features, m = no. of classes, n=no. of samples\n",
    "    firstLine = [int(String) for String in lines[0].strip().split()]\n",
    "    featureNo, classNo, sampleNo = firstLine[0], firstLine[1], firstLine[2]\n",
    "    \n",
    "    print(featureNo, classNo, sampleNo)\n",
    "\n",
    "    for line in lines[1:]: \n",
    "        featureValuesForCurrentSample = list(map(float, line.strip().split()[:featureNo]))\n",
    "        classOfCurrentSample = int(line.strip().split()[featureNo])\n",
    "        # print(featureValuesForCurrentSample)\n",
    "        dataset.append(np.array(featureValuesForCurrentSample, dtype=float))\n",
    "        classLabels.append(classOfCurrentSample)\n",
    "    print(featureNo)\n",
    "    # print(classLabels)\n",
    "    \n",
    "\n",
    "\n"
   ]
  },
  {
   "cell_type": "code",
   "execution_count": 245,
   "metadata": {
    "tags": [
     "outputPrepend"
    ]
   },
   "outputs": [
    {
     "output_type": "stream",
     "name": "stdout",
     "text": "4 2 400\n4\n4\n"
    }
   ],
   "source": [
    "readTrainDataset('dataset/trainLinearlySeparable.txt')\n",
    "print(featureNo)"
   ]
  },
  {
   "cell_type": "markdown",
   "metadata": {},
   "source": [
    "### Read Test Dataset"
   ]
  },
  {
   "cell_type": "code",
   "execution_count": 246,
   "metadata": {},
   "outputs": [],
   "source": [
    "def readTestDataset(file_name): \n",
    "    global featureNo, classNo, sampleNo \n",
    "\n",
    "    testDataSet = []\n",
    "    testClassLabels = []\n",
    "    \n",
    "    with open(file_name, 'r', encoding='utf-8') as f: \n",
    "        lines = f.readlines()\n",
    "\n",
    "    # first line contains 3 integers d m n. d = no. of features, m = no. of classes, n=no. of samples\n",
    "\n",
    "    for line in lines: \n",
    "        featureValuesForCurrentSample = list(map(float, line.strip().split()[:featureNo]))\n",
    "        classOfCurrentSample = int(line.strip().split()[featureNo])\n",
    "        # print(featureValuesForCurrentSample)\n",
    "\n",
    "        testDataSet.append(np.array(featureValuesForCurrentSample, dtype=float))\n",
    "        testClassLabels.append(classOfCurrentSample)\n",
    "\n",
    "    return testDataSet, testClassLabels\n",
    "\n"
   ]
  },
  {
   "cell_type": "markdown",
   "metadata": {},
   "source": [
    "## Basic Perceptron"
   ]
  },
  {
   "cell_type": "code",
   "execution_count": 253,
   "metadata": {},
   "outputs": [],
   "source": [
    "class basicPerceptron: \n",
    "    def __init__(self): \n",
    "        self.w = np.random.uniform(-1, 1, featureNo + 1)\n",
    "        self.learning_rate = 0.1\n",
    "\n",
    "    def train(self): \n",
    "        global featureNo, classNo, sampleNo \n",
    "        global dataset, classLabels\n",
    "        \n",
    "        t = 0 \n",
    "        T = 1000\n",
    "        while t < T: \n",
    "            Y = [] # misclassified\n",
    "            # print(featureNo, classNo, sampleNo)\n",
    "            # print(dataset, classLabels)\n",
    "            for i in range(sampleNo): \n",
    "                # print(len(dataset))\n",
    "                x = np.array(dataset[i])\n",
    "                # x = np.append(dataset[i], 1)            \n",
    "                x = np.append(x, 1)            \n",
    "                dotProduct = np.dot(self.w, x)\n",
    "                if dotProduct < 0 and classLabels[i] == 1: \n",
    "                    delta = -1.0 \n",
    "                    Y.append(x*delta)\n",
    "                elif dotProduct >= 0 and classLabels[i] == 2: \n",
    "                    delta = 1.0  \n",
    "                    Y.append(x*delta)\n",
    "            \n",
    "            if len(Y) == 0: \n",
    "                # training done! 100% accuracy. \n",
    "                print(f'Training successfully finished at {i}th iteration.')\n",
    "                print(\"w: \" + str(self.w) + \"\\n\")\n",
    "                break\n",
    "           \n",
    "            self.w = self.w - self.learning_rate * sum(Y)\n",
    "            t = t + 1\n",
    "        print(f'Exiting training after {T} steps.')\n",
    "\n",
    "\n",
    "    def test(self,fileName): \n",
    "        log = {\n",
    "                'sample_no' : [], \n",
    "                'feature_values' : [],\n",
    "                'actual_class' : [],\n",
    "                'predicted_class' : []\n",
    "               }\n",
    "\n",
    "        testDataSet, testClassLables = readTestDataset(fileName)\n",
    "        # print(testDataSet)\n",
    "        # print('##########')\n",
    "        # print(testClassLabels)\n",
    "\n",
    "        correctlyClassified = 0 \n",
    "\n",
    "        for i in range(len(testDataSet)):\n",
    "            data =  np.append(testDataSet[i], 1)\n",
    "            # print(self.w)\n",
    "            # print(data)\n",
    "            dotProduct = np.dot(self.w, data) \n",
    "            if dotProduct > 0: \n",
    "                predictedClass = 1 \n",
    "            else: \n",
    "                predictedClass = 2\n",
    "\n",
    "            if predictedClass == testClassLables[i]: \n",
    "                correctlyClassified += 1\n",
    "            else : \n",
    "                log['sample_no'].append(str(i))\n",
    "                log['feature_values'].append(testDataSet[i])\n",
    "                log['actual_class'].append(testClassLables[i])\n",
    "                log['predicted_class'].append(predictedClass)\n",
    "        \n",
    "        log_frame = pd.DataFrame.from_dict(log) \n",
    "        accuracy = correctlyClassified/ len(testDataSet) * 100\n",
    "        print(log_frame)\n",
    "        print(f'- Accuracy {accuracy}%')\n",
    "\n",
    "\n"
   ]
  },
  {
   "cell_type": "markdown",
   "metadata": {},
   "source": []
  },
  {
   "cell_type": "code",
   "execution_count": 258,
   "metadata": {
    "tags": [
     "outputPrepend"
    ]
   },
   "outputs": [
    {
     "output_type": "stream",
     "name": "stdout",
     "text": "4 2 400\n4\nTraining successfully finished at 399th iteration.\nw: [ 165.98066897    3.17838407   -6.80634708 -187.96197346 1758.44493875]\n\nExiting training after 1000 steps.\nEmpty DataFrame\nColumns: [sample_no, feature_values, actual_class, predicted_class]\nIndex: []\n- Accuracy 100.0%\n"
    }
   ],
   "source": [
    "test_file_1 = \"./dataset/testLinearlySeparable.txt\"\n",
    "train_file_1 = \"./dataset/trainLinearlySeparable.txt\"\n",
    "\n",
    "readTrainDataset(train_file_1)\n",
    "p = basicPerceptron()\n",
    "p.train()\n",
    "p.test(test_file_1)\n"
   ]
  },
  {
   "cell_type": "markdown",
   "metadata": {},
   "source": [
    "## Reward and Punishment"
   ]
  },
  {
   "cell_type": "code",
   "execution_count": 261,
   "metadata": {},
   "outputs": [],
   "source": [
    "class RewardAndPunishment: \n",
    "    def __init__(self): \n",
    "        self.w = np.random.uniform(-1, 1, featureNo + 1)\n",
    "        self.learning_rate = 0.1\n",
    "\n",
    "    def train(self): \n",
    "        global featureNo, classNo, sampleNo \n",
    "        global dataset, classLabels  \n",
    "        \n",
    "        t = 0 \n",
    "        T = 1000\n",
    "        while t < T: \n",
    "            Y = [] # misclassified\n",
    "            flag = True\n",
    "            for i in range(sampleNo): \n",
    "                # print(len(dataset))\n",
    "                x = np.append(dataset[i], 1)   \n",
    "\n",
    "                dotProduct = np.dot(self.w, x)\n",
    "                if dotProduct < 0 and classLabels[i] == 1: \n",
    "                    self.w = self.w + self.learning_rate * x \n",
    "                    falg = False\n",
    "                elif dotProduct >= 0 and classLabels[i] == 2: \n",
    "                    self.w = self.w - self.learning_rate * x\n",
    "                    flag = False\n",
    "            \n",
    "            if flag: \n",
    "                print(f'Training stopping at {t} steps')\n",
    "                print(\"weight vector\", self.w)\n",
    "                break\n",
    "\n",
    "            t = t + 1\n",
    "        print(f'Exiting training after {T} steps.')\n",
    "\n",
    "\n",
    "    def test(self,fileName): \n",
    "        log = {\n",
    "                'sample_no' : [], \n",
    "                'feature_values' : [],\n",
    "                'actual_class' : [],\n",
    "                'predicted_class' : []\n",
    "               }\n",
    "\n",
    "        testDataSet, testClassLables = readTestDataset(fileName)\n",
    "\n",
    "        correctlyClassified = 0 \n",
    "\n",
    "        for i in range(len(testDataSet)):\n",
    "            data =  np.append(testDataSet[i], 1)\n",
    "            # print(self.w)\n",
    "            # print(data)\n",
    "            dotProduct = np.dot(self.w, data) \n",
    "            if dotProduct > 0: \n",
    "                predictedClass = 1 \n",
    "            else: \n",
    "                predictedClass = 2\n",
    "\n",
    "            if predictedClass == testClassLables[i]: \n",
    "                correctlyClassified += 1\n",
    "            else : \n",
    "                log['sample_no'].append(str(i))\n",
    "                log['feature_values'].append(testDataSet[i])\n",
    "                log['actual_class'].append(testClassLables[i])\n",
    "                log['predicted_class'].append(predictedClass)\n",
    "        \n",
    "        log_frame = pd.DataFrame.from_dict(log) \n",
    "        accuracy = correctlyClassified/ len(testDataSet) * 100\n",
    "        print(log_frame)\n",
    "        print(f'- Accuracy {accuracy}%')\n",
    "\n",
    "\n"
   ]
  },
  {
   "cell_type": "code",
   "execution_count": 262,
   "metadata": {
    "tags": [
     "outputPrepend",
     "outputPrepend",
     "outputPrepend",
     "outputPrepend",
     "outputPrepend",
     "outputPrepend",
     "outputPrepend",
     "outputPrepend",
     "outputPrepend",
     "outputPrepend",
     "outputPrepend",
     "outputPrepend",
     "outputPrepend",
     "outputPrepend",
     "outputPrepend",
     "outputPrepend",
     "outputPrepend",
     "outputPrepend",
     "outputPrepend",
     "outputPrepend",
     "outputPrepend",
     "outputPrepend",
     "outputPrepend",
     "outputPrepend",
     "outputPrepend",
     "outputPrepend",
     "outputPrepend",
     "outputPrepend",
     "outputPrepend",
     "outputPrepend",
     "outputPrepend",
     "outputPrepend",
     "outputPrepend",
     "outputPrepend",
     "outputPrepend",
     "outputPrepend",
     "outputPrepend",
     "outputPrepend",
     "outputPrepend",
     "outputPrepend",
     "outputPrepend",
     "outputPrepend",
     "outputPrepend",
     "outputPrepend",
     "outputPrepend",
     "outputPrepend",
     "outputPrepend",
     "outputPrepend",
     "outputPrepend",
     "outputPrepend",
     "outputPrepend",
     "outputPrepend",
     "outputPrepend",
     "outputPrepend",
     "outputPrepend",
     "outputPrepend",
     "outputPrepend",
     "outputPrepend",
     "outputPrepend",
     "outputPrepend",
     "outputPrepend",
     "outputPrepend",
     "outputPrepend",
     "outputPrepend",
     "outputPrepend",
     "outputPrepend",
     "outputPrepend",
     "outputPrepend",
     "outputPrepend",
     "outputPrepend",
     "outputPrepend",
     "outputPrepend",
     "outputPrepend",
     "outputPrepend",
     "outputPrepend"
    ]
   },
   "outputs": [
    {
     "output_type": "stream",
     "name": "stdout",
     "text": "4 2 400\n4\nTraining stopping at 2 steps\nweight vector [ 0.65568717  0.63260222 -0.13505908 -1.07536272  8.67527044]\nExiting training after 1000 steps.\nEmpty DataFrame\nColumns: [sample_no, feature_values, actual_class, predicted_class]\nIndex: []\n- Accuracy 100.0%\n"
    }
   ],
   "source": [
    "test_file_1 = \"./dataset/testLinearlySeparable.txt\"\n",
    "train_file_1 = \"./dataset/trainLinearlySeparable.txt\"\n",
    "\n",
    "readTrainDataset(train_file_1)\n",
    "p = RewardAndPunishment()\n",
    "p.train()\n",
    "p.test(test_file_1)\n"
   ]
  },
  {
   "cell_type": "markdown",
   "metadata": {},
   "source": [
    "## Pocket Perceptron"
   ]
  },
  {
   "cell_type": "code",
   "execution_count": 263,
   "metadata": {},
   "outputs": [],
   "source": [
    "class pocketPerceptron: \n",
    "    def __init__(self): \n",
    "        self.w = np.random.uniform(-1, 1, featureNo + 1)\n",
    "        self.ws = self.w\n",
    "        self.learning_rate = 0.1\n",
    "        self.hs = 0 \n",
    "\n",
    "    def train(self): \n",
    "        global featureNo, classNo, sampleNo \n",
    "        global dataset, classLabels\n",
    "        \n",
    "        t = 0 \n",
    "        T = 1000\n",
    "        while t < T: \n",
    "            Y = [] # misclassified\n",
    "            for i in range(sampleNo): \n",
    "                x = np.append(dataset[i], 1)            \n",
    "                dotProduct = np.dot(self.w, x)\n",
    "                if dotProduct < 0 and classLabels[i] == 1: \n",
    "                    delta = -1.0 \n",
    "                    Y.append(x*delta)\n",
    "                elif dotProduct >= 0 and classLabels[i] == 2: \n",
    "                    delta = 1.0  \n",
    "                    Y.append(x*delta)\n",
    "            # print(len(dataset))\n",
    "            if self.hs < len(dataset) - len(Y): # better found \n",
    "                self.hs = len(dataset) - len(Y)\n",
    "                self.ws = self.w\n",
    "\n",
    "            if len(Y) == 0: \n",
    "                # training done! 100% accuracy. \n",
    "                print(f'Training successfull finished at {i}th iteration.')\n",
    "                print(\"ws: \" + str(self.ws) + \"\\n\")\n",
    "                break\n",
    "            else: \n",
    "                self.w = self.w - self.learning_rate * sum(Y)\n",
    "            t = t + 1\n",
    "        print(f'Exiting training after {T} steps.')\n",
    "\n",
    "\n",
    "    def test(self,fileName): \n",
    "        log = {\n",
    "                'sample_no' : [], \n",
    "                'feature_values' : [],\n",
    "                'actual_class' : [],\n",
    "                'predicted_class' : []\n",
    "               }\n",
    "\n",
    "        testDataSet, testClassLables = readTestDataset(fileName)\n",
    "\n",
    "        correctlyClassified = 0 \n",
    "\n",
    "        for i in range(len(testDataSet)):\n",
    "            data =  np.append(testDataSet[i], 1)\n",
    "            # print(self.w)\n",
    "            # print(data)\n",
    "            dotProduct = np.dot(self.ws, data) \n",
    "            if dotProduct > 0: \n",
    "                predictedClass = 1 \n",
    "            else: \n",
    "                predictedClass = 2\n",
    "\n",
    "            if predictedClass == testClassLables[i]: \n",
    "                correctlyClassified += 1\n",
    "            else : \n",
    "                log['sample_no'].append(str(i))\n",
    "                log['feature_values'].append(testDataSet[i])\n",
    "                log['actual_class'].append(testClassLables[i])\n",
    "                log['predicted_class'].append(predictedClass)\n",
    "        \n",
    "        log_frame = pd.DataFrame.from_dict(log) \n",
    "        accuracy = correctlyClassified/ len(testDataSet) * 100\n",
    "        print(log_frame)\n",
    "        print(f'- Accuracy {accuracy}%')\n",
    "\n",
    "\n"
   ]
  },
  {
   "cell_type": "code",
   "execution_count": 264,
   "metadata": {},
   "outputs": [
    {
     "output_type": "stream",
     "name": "stdout",
     "text": "4 2 400\n4\nTraining successfull finished at 399th iteration.\nws: [ 44.80322648   2.19910692  -1.57578957 -48.11779648 432.15041017]\n\nExiting training after 1000 steps.\n  sample_no                                     feature_values  actual_class  \\\n0       170  [1.608665812, 3.864370259, 5.29833973, 8.01541...             2   \n1       171  [2.030374637, 4.634829893, 6.940987113, 8.5359...             2   \n2       172  [3.992375845, 8.080901131, 12.34340583, 16.059...             1   \n3       173  [4.159753575, 7.654566962, 11.77586291, 16.585...             1   \n4       174  [2.140333354, 3.668254357, 6.18842916, 8.16284...             2   \n5       175  [4.312450305, 8.084623177, 11.48604125, 15.186...             1   \n6       176  [4.57722904, 8.046616572, 11.29743912, 15.8076...             1   \n7       177  [3.335158198, 8.351921916, 12.63921605, 15.635...             1   \n8       178  [2.068326985, 4.647149543, 6.334827587, 8.0155...             2   \n\n   predicted_class  \n0                1  \n1                1  \n2                2  \n3                2  \n4                1  \n5                2  \n6                2  \n7                2  \n8                1  \n- Accuracy 97.75%\n"
    }
   ],
   "source": [
    "test_file_1 = \"./dataset/testLinearlySeparable.txt\"\n",
    "train_file_1 = \"./dataset/trainLinearlySeparable.txt\"\n",
    "\n",
    "test_file_2 = \"./dataset/testLinearlyNonSeparable.txt\"\n",
    "train_file_2 = \"./dataset/trainLinearlyNonSeparable.txt\"\n",
    "\n",
    "readTrainDataset(train_file_2)\n",
    "p = pocketPerceptron()\n",
    "p.train()\n",
    "p.test(test_file_2)"
   ]
  }
 ],
 "metadata": {
  "language_info": {
   "codemirror_mode": {
    "name": "ipython",
    "version": 3
   },
   "file_extension": ".py",
   "mimetype": "text/x-python",
   "name": "python",
   "nbconvert_exporter": "python",
   "pygments_lexer": "ipython3",
   "version": 3
  },
  "orig_nbformat": 2,
  "kernelspec": {
   "name": "python_defaultSpec_1601060985288",
   "display_name": "Python 3.8.2 64-bit"
  }
 },
 "nbformat": 4,
 "nbformat_minor": 2
}